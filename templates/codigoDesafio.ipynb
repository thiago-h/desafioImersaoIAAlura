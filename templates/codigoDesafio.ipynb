{
  "cells": [
    {
      "cell_type": "markdown",
      "source": [
        "# Nova seção"
      ],
      "metadata": {
        "id": "AgQ0VblnLYMI"
      }
    },
    {
      "cell_type": "code",
      "source": [
        "import google.generativeai as genai\n",
        "\n",
        "from google.colab import userdata\n",
        "apikey = userdata.get(\"SECRET_KEY\")\n",
        "genai.configure(api_key=apikey)\n",
        "\n",
        "# Set up the model\n",
        "generation_config = {\n",
        "  \"temperature\": 1,\n",
        "  \"top_p\": 0.95,\n",
        "  \"top_k\": 0,\n",
        "  \"max_output_tokens\": 8192,\n",
        "}\n",
        "\n",
        "safety_settings = [\n",
        "  {\n",
        "    \"category\": \"HARM_CATEGORY_HARASSMENT\",\n",
        "    \"threshold\": \"BLOCK_MEDIUM_AND_ABOVE\"\n",
        "  },\n",
        "  {\n",
        "    \"category\": \"HARM_CATEGORY_HATE_SPEECH\",\n",
        "    \"threshold\": \"BLOCK_MEDIUM_AND_ABOVE\"\n",
        "  },\n",
        "  {\n",
        "    \"category\": \"HARM_CATEGORY_SEXUALLY_EXPLICIT\",\n",
        "    \"threshold\": \"BLOCK_MEDIUM_AND_ABOVE\"\n",
        "  },\n",
        "  {\n",
        "    \"category\": \"HARM_CATEGORY_DANGEROUS_CONTENT\",\n",
        "    \"threshold\": \"BLOCK_MEDIUM_AND_ABOVE\"\n",
        "  },\n",
        "]\n",
        "\n",
        "model = genai.GenerativeModel(model_name=\"gemini-1.5-pro-latest\",\n",
        "                              generation_config=generation_config,\n",
        "                              safety_settings=safety_settings)\n",
        "\n",
        "chat = model.start_chat(history=[])\n",
        "\n",
        "print(\"Nesse jogo você escolherá um tema (em português) e será sorteada uma palavra em inglês relacionado ao tema. \\nVocê receberá como dica o tamanho da palavra e uma definição dela em inglês.\\nVocê terá que adivinhar qual a palavra em inglês.\\nSerá então selecionada outra palavra aleatória relacionada a última palavra que você tentou adivinhar, até que você responda com 'sair'\\n\\n\")\n",
        "\n",
        "tema = input('Escolha um tema: ')\n",
        "\n",
        "palavra = chat.send_message(\"me dê uma palavra aleatória em inglês relacionada a palavra \" + tema + \" me forneça apenas a palavra\").text.strip().lower()\n",
        "descricao = chat.send_message(\"me dê a definição em inglês da palavra \" + palavra + \" sem mencioná-la na descrição\").text\n",
        "\n",
        "resposta = \"\"\n",
        "\n",
        "while resposta != \"sair\":\n",
        "  print(\"A palavra sorteada tem :\", len(palavra), 'letras\\n')\n",
        "  print(\"A definição da palavra sorteada é :\", descricao, '\\n')\n",
        "  resposta = input('Qual é a palavra? ').strip().lower()\n",
        "  if resposta == \"sair\":\n",
        "    break\n",
        "  elif resposta == palavra:\n",
        "    print(\"você acertou\")\n",
        "  else:\n",
        "    print(\"dessa vez você não acertou, a palavra correta era: \", palavra)\n",
        "  print(\"A próxima palavra está relacionado a: \" + palavra)\n",
        "  tema = palavra\n",
        "  palavra = chat.send_message(\"me dê uma palavra aleatória em inglês relacionada a palavra \" + tema + \" me forneça apenas a palavra\").text.strip().lower()\n",
        "  descricao = chat.send_message(\"me dê a definição em inglês da palavra \" + palavra + \" sem mencioná-la na descrição\").text"
      ],
      "metadata": {
        "colab": {
          "base_uri": "https://localhost:8080/",
          "height": 249
        },
        "id": "BDZRp0VGLZ5r",
        "outputId": "82aa14bc-5ea6-4b64-9228-dcc5224f2624"
      },
      "execution_count": 43,
      "outputs": [
        {
          "name": "stdout",
          "output_type": "stream",
          "text": [
            "Nesse jogo você escolherá um tema (em português) e será sorteada uma palavra em inglês relacionado ao tema. \n",
            "Você receberá como dica o tamanho da palavra e uma definição dela em inglês.\n",
            "Você terá que adivinhar qual a palavra em inglês.\n",
            "Será então selecionada outra palavra aleatória relacionada a última palavra que você tentou adivinhar, até que você responda com 'sair'\n",
            "\n",
            "\n",
            "Escolha um tema: sair\n",
            "A palavra sorteada tem : 4 letras\n",
            "\n",
            "A definição da palavra sorteada é : A way or passage out. \n",
            " \n",
            "\n",
            "Qual é a palavra? sair\n"
          ]
        }
      ]
    }
  ],
  "metadata": {
    "colab": {
      "collapsed_sections": [
        "Tce3stUlHN0L"
      ],
      "name": "aistudio_gemini_prompt_chat_b64.ipynb",
      "provenance": []
    },
    "kernelspec": {
      "display_name": "Python 3",
      "name": "python3"
    }
  },
  "nbformat": 4,
  "nbformat_minor": 0
}